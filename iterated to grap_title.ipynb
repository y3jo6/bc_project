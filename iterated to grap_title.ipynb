{
 "cells": [
  {
   "cell_type": "code",
   "execution_count": 76,
   "metadata": {
    "collapsed": false
   },
   "outputs": [
    {
     "name": "stdout",
     "output_type": "stream",
     "text": [
      "/bbs/movie/index5016.html\n",
      "<a href=\"/bbs/movie/M.1484238175.A.FE9.html\">[新聞] 史柯西斯策劃辛納屈傳記電影 將停止作業</a>\n",
      "<a href=\"/bbs/movie/M.1484239473.A.F4C.html\">[翻譯] 梅莉史翠普於金球獎上的演講</a>\n",
      "<a href=\"/bbs/movie/M.1397887191.A.BD0.html\">[公告]《各式疑難雜症FAQ》</a>\n",
      "[公告]《各式疑難雜症FAQ》\n",
      "<a href=\"/bbs/movie/M.1468848054.A.77E.html\">[公告] 板規！必看！｜好文推薦‧惡文檢舉</a>\n",
      "[公告] 板規！必看！｜好文推薦‧惡文檢舉\n",
      "<a href=\"/bbs/movie/M.1480577115.A.AF0.html\">[公告] 版主徵選公告</a>\n",
      "[公告] 版主徵選公告\n",
      "<a href=\"/bbs/movie/M.1483678118.A.1D6.html\">[贈票] 電影神搜乎你贈票之《海洋奇緣》特映券</a>\n",
      "url: https://www.ptt.cc/bbs/movie/index5016.html\n",
      "/bbs/movie/index5015.html\n",
      "<a href=\"/bbs/movie/M.1484226701.A.140.html\">[情報] A24 釋出「未知」作品神秘預告</a>\n",
      "[情報] A24 釋出「未知」作品神秘預告\n",
      "<a href=\"/bbs/movie/M.1484227157.A.8A4.html\">[好雷]《關鍵少數》，癡人說夢與美夢成真。</a>\n",
      "<a href=\"/bbs/movie/M.1484227321.A.D92.html\">[討論] 有人能講解能年玲奈的情況嗎</a>\n",
      "<a href=\"/bbs/movie/M.1484228671.A.E3C.html\">[負雷] 冤親債主The bye bye man</a>\n",
      "<a href=\"/bbs/movie/M.1484229628.A.77E.html\">[討論]6年後，社群網戰的主角們</a>\n",
      "<a href=\"/bbs/movie/M.1484230365.A.5E3.html\">[問片] 一部有關潔癖的電影</a>\n",
      "<a href=\"/bbs/movie/M.1484230747.A.2A8.html\">[請益] 如果這世界貓消失了</a>\n",
      "<a href=\"/bbs/movie/M.1484231085.A.2B4.html\">[問片]一部日本電影</a>\n",
      "<a href=\"/bbs/movie/M.1484231304.A.A82.html\">[好雷]讓關鍵少數告訴你什麼叫做真平權！ </a>\n",
      "[好雷]讓關鍵少數告訴你什麼叫做真平權！\n",
      "<a href=\"/bbs/movie/M.1484231318.A.C8F.html\">Re: [負雷] 樂來越愛你</a>\n",
      "<a href=\"/bbs/movie/M.1484232734.A.B07.html\">[資訊] 公視《紀錄觀點》2017年二月份 片單</a>\n",
      "<a href=\"/bbs/movie/M.1484232864.A.725.html\">[好雷] 《大犯罪家》(The Clan)-親情綁架之極致</a>\n",
      "<a href=\"/bbs/movie/M.1484232864.A.375.html\">[好無雷]《明天別再來敲門》(2016)</a>\n",
      "<a href=\"/bbs/movie/M.1484233755.A.17E.html\">Re: [新聞] 娜塔莉波曼揭潛規則 片酬比同劇男星少3倍</a>\n",
      "<a href=\"/bbs/movie/M.1484233899.A.447.html\">[請益] 為何樂來越愛妳評價開始變得兩極</a>\n",
      "None\n",
      "<a href=\"/bbs/movie/M.1484233989.A.C66.html\">[新聞] 安娜坎卓克將演出迪士尼聖誕電影《NICOLE</a>\n",
      "<a href=\"/bbs/movie/M.1484234143.A.EDD.html\">Re: [討論] Andrew Garfield戲路這麼順因為是猶太人?</a>\n",
      "<a href=\"/bbs/movie/M.1484236512.A.E14.html\">[好雷] 擺渡人膚淺版評論 </a>\n",
      "<a href=\"/bbs/movie/M.1484237515.A.84B.html\">[問片] 舊港片有段在游泳池把妹被罰一直唱歌?</a>\n",
      "url: https://www.ptt.cc/bbs/movie/index5015.html\n",
      "/bbs/movie/index5014.html\n",
      "<a href=\"/bbs/movie/M.1484202601.A.535.html\">[討論] 最適合詮釋「東方仙子」的人選？</a>\n",
      "<a href=\"/bbs/movie/M.1484204446.A.951.html\">[負雷] 樂來越愛你</a>\n",
      "<a href=\"/bbs/movie/M.1484205046.A.045.html\">[新聞] 守護者聯盟最終預告秀合體技戰鬥民族94狂</a>\n",
      "[新聞] 守護者聯盟最終預告秀合體技戰鬥民族94狂\n",
      "<a href=\"/bbs/movie/M.1484205929.A.D56.html\">[開箱] 港版 下女的誘惑 / 屍速列車 藍光BD</a>\n",
      "<a href=\"/bbs/movie/M.1484210727.A.469.html\">[普雷] 怪獸卡車</a>\n",
      "<a href=\"/bbs/movie/M.1484212833.A.1A5.html\">[討論] 關於《腦筋急轉彎》最揪心的一幕</a>\n",
      "<a href=\"/bbs/movie/M.1484213315.A.8C1.html\">[新聞] 前蜘蛛人回憶寶島拍《沈默》大讚台灣 </a>\n",
      "<a href=\"/bbs/movie/M.1484213903.A.4EB.html\">[轉錄] 你的名字IMAX　台灣上映場次時間</a>\n",
      "<a href=\"/bbs/movie/M.1484215582.A.578.html\">[討論] 傳聞迪士尼花木蘭選角定了-劉承羽</a>\n",
      "<a href=\"/bbs/movie/M.1484216468.A.1F4.html\">[選片] 連續看八小時的話，會選什麼片？</a>\n",
      "<a href=\"/bbs/movie/M.1484219569.A.B4B.html\">[問片] ㄧ部在客運上看的外國片</a>\n",
      "<a href=\"/bbs/movie/M.1484220333.A.A95.html\">Re: [討論] Andrew Garfield戲路這麼順因為是猶太人?</a>\n",
      "<a href=\"/bbs/movie/M.1484221312.A.F8C.html\">[好雷]樂來越愛你 為了夢想、得做出犧牲 </a>\n",
      "<a href=\"/bbs/movie/M.1484222635.A.26A.html\">[  雷] 尋問一部老國片</a>\n",
      "<a href=\"/bbs/movie/M.1484223192.A.B89.html\">[問片] 黑人、跑步、真實故事</a>\n",
      "<a href=\"/bbs/movie/M.1484225737.A.C4B.html\">[問片] 有關於日本原爆的電影</a>\n",
      "<a href=\"/bbs/movie/M.1484225912.A.A52.html\">[問片] 俄羅斯愛情電影</a>\n",
      "<a href=\"/bbs/movie/M.1484226277.A.D74.html\">[好雷] 速食遊戲：我認為雷應該下地獄</a>\n",
      "<a href=\"/bbs/movie/M.1484226536.A.A9A.html\">[新聞] 張榕容52赫茲女女戀 魏德聖認為她很帥</a>\n",
      "<a href=\"/bbs/movie/M.1484226569.A.FCA.html\">[新聞] 比利林恩全台票房破億 李安隔海道謝</a>\n",
      "url: https://www.ptt.cc/bbs/movie/index5014.html\n",
      "/bbs/movie/index5013.html\n",
      "<a href=\"/bbs/movie/M.1484162823.A.C78.html\">[普偏負雷]靈異象限-外星人題材包裝的勵志片 </a>\n",
      "<a href=\"/bbs/movie/M.1484170477.A.FB6.html\">[新聞] 班艾佛列克《夜行人生》反骨衝撞社會體制</a>\n",
      "<a href=\"/bbs/movie/M.1484175943.A.A2D.html\">[新聞]喬瑟夫費恩斯神變身流行樂之王 找白人演</a>\n",
      "<a href=\"/bbs/movie/M.1484178705.A.084.html\">Re: [情報] 福山雅治、役所廣司將主演是枝裕和執導法庭懸疑電影新作</a>\n",
      "<a href=\"/bbs/movie/M.1484180741.A.9BB.html\">[好雷] 52Hz, I Love You 搶先場</a>\n",
      "<a href=\"/bbs/movie/M.1484186363.A.285.html\">[新聞] 金球獎加持熱燒　《樂來》台票房重回冠軍</a>\n",
      "<a href=\"/bbs/movie/M.1484187664.A.7F8.html\">Re: [討論] 景甜倒底是何許人也??</a>\n",
      "<a href=\"/bbs/movie/M.1484188795.A.2C5.html\">[討論] 那個超級英雄片動作戲讓人最深刻</a>\n",
      "<a href=\"/bbs/movie/M.1484191576.A.2C7.html\">[情報] 尼可拉斯霍特、蕾雅柯絲塔主演《禁愛世界》導演執導新作《Ne</a>\n",
      "<a href=\"/bbs/movie/M.1484192962.A.792.html\">[討論] 樂高蝙蝠俠 新片段</a>\n",
      "<a href=\"/bbs/movie/M.1484193367.A.89C.html\">[討論] 《格雷的五十道陰影:束縛》原聲帶全部曲目發布</a>\n",
      "<a href=\"/bbs/movie/M.1484193757.A.648.html\">[情報] 2017 美國攝影師協會獎 入圍名單</a>\n",
      "<a href=\"/bbs/movie/M.1484194031.A.4E8.html\">[新聞] 金球獎影后艾美・亞當斯星光大道摘星</a>\n",
      "<a href=\"/bbs/movie/M.1484196275.A.5E5.html\">[新聞] 第11屆亞洲電影大獎入圍名單公布</a>\n",
      "<a href=\"/bbs/movie/M.1484196574.A.855.html\">[討論] 神鬼駭客 史諾登 看完發現的驚喜</a>\n",
      "<a href=\"/bbs/movie/M.1484198047.A.3AC.html\">[選片] 長城 擺渡人 同盟鶼鰈</a>\n",
      "<a href=\"/bbs/movie/M.1484198253.A.A7F.html\">[問片] 一部多年前的港片(已解決)</a>\n",
      "<a href=\"/bbs/movie/M.1484198405.A.6E5.html\">[新聞] 娜塔莉波曼揭潛規則 片酬比同劇男星少3倍</a>\n",
      "<a href=\"/bbs/movie/M.1484199233.A.9C4.html\">[贈票] 宮澤理惠《幸福湯屋》贈票活動</a>\n",
      "<a href=\"/bbs/movie/M.1484201977.A.043.html\">[請益] 法庭片常出現的這一句是什麼意思</a>\n",
      "url: https://www.ptt.cc/bbs/movie/index5013.html\n",
      "/bbs/movie/index5012.html\n",
      "<a href=\"/bbs/movie/M.1484141203.A.01B.html\">[新聞] 永瀨正敏為賈木許 友情跨刀演派特森</a>\n",
      "<a href=\"/bbs/movie/M.1484141216.A.703.html\">[好雷] 我心深愛的國王</a>\n",
      "<a href=\"/bbs/movie/M.1484144211.A.4DB.html\">[新聞] 頻被問蝙蝠俠進度 小班搞笑回：我好沮喪</a>\n",
      "<a href=\"/bbs/movie/M.1484144833.A.17F.html\">[新聞] 喬治米勒表示瘋狂麥斯荒蕪大地劇本已完成</a>\n",
      "<a href=\"/bbs/movie/M.1484144869.A.DA3.html\">Re: [大負雷] 刺客教條  爛到一個無以復加</a>\n",
      "<a href=\"/bbs/movie/M.1484146101.A.7D3.html\">[好雷]其實是部恐怖片——樂來越愛你 </a>\n",
      "<a href=\"/bbs/movie/M.1484146183.A.653.html\">[好雷] 關鍵少數 </a>\n",
      "<a href=\"/bbs/movie/M.1484146867.A.0F6.html\"> [ 好雷] 同盟鶼鰈，真實的自我</a>\n",
      "<a href=\"/bbs/movie/M.1484146976.A.B28.html\">[討論] 守護者聯盟 預告</a>\n",
      "[討論] 守護者聯盟 預告\n",
      "<a href=\"/bbs/movie/M.1484147582.A.75C.html\">[負雷] 滿難看的顛父人生....</a>\n",
      "<a href=\"/bbs/movie/M.1484149057.A.54C.html\">[選片] 夜行人生vs我不是潘金蓮vs你的名字IMAX</a>\n",
      "None\n",
      "<a href=\"/bbs/movie/M.1484151414.A.CB7.html\">[問片] 把人泡進黃金</a>\n",
      "<a href=\"/bbs/movie/M.1484156637.A.6F8.html\">[新聞] 俄版「復仇者聯盟」？「守護者聯盟」角</a>\n",
      "<a href=\"/bbs/movie/M.1484158268.A.A1D.html\">[情報] 2017 美國化妝∕髮型師協會獎 入圍名單</a>\n",
      "<a href=\"/bbs/movie/M.1484158577.A.840.html\">[情報] 2017 南加大圖書館編劇獎 入圍名單</a>\n",
      "<a href=\"/bbs/movie/M.1484158790.A.FD1.html\">[新聞]星戰特效公司ILM獲得第30座奧斯卡獎 </a>\n",
      "<a href=\"/bbs/movie/M.1484159022.A.3A2.html\">[情報] 2017 視覺效果協會獎 入圍名單</a>\n",
      "<a href=\"/bbs/movie/M.1484160036.A.2AF.html\">[討論] 同盟鶼鰈（有雷慎入）</a>\n",
      "<a href=\"/bbs/movie/M.1484161484.A.8DF.html\">[討論] 腦補長城其餘部份（有雷）</a>\n",
      "url: https://www.ptt.cc/bbs/movie/index5012.html\n"
     ]
    }
   ],
   "source": [
    "import requests\n",
    "from bs4 import BeautifulSoup\n",
    "def process_url (url):\n",
    "    response    = requests.get(url)\n",
    "    soup        = BeautifulSoup(response.text, 'lxml')\n",
    "    articles    = soup.find_all('div', 'r-ent')\n",
    "    links       = soup.find_all('div', 'btn-group btn-group-paging')\n",
    "    return articles, links\n",
    "def get_prv_page(links):\n",
    "    href = links[0].find_all('a')[1].get('href')\n",
    "    print (href)\n",
    "    return (href)\n",
    "def get_content_from_articles(articles, lookingfor):\n",
    "    for article in articles:\n",
    "        #print (article)\n",
    "        meta = article.find('div', 'title').find('a')\n",
    "        #print (meta)\n",
    "        if(meta is None):\n",
    "            continue\n",
    "        else:\n",
    "            title = meta.getText().strip()\n",
    "            if(lookingfor in title):\n",
    "                print (title)\n",
    "\n",
    "if __name__ == '__main__':   \n",
    "    url = 'https://www.ptt.cc/bbs/movie/index.html'\n",
    "    ctr = 0\n",
    "    while (ctr < 5):\n",
    "        articles, links = process_url(url)\n",
    "        url = get_prv_page(links)\n",
    "        get_content_from_articles(articles, '告')\n",
    "        url = \"https://www.ptt.cc\"+url\n",
    "        print (\"url: \"+url)\n",
    "        ctr += 1\n"
   ]
  },
  {
   "cell_type": "code",
   "execution_count": 64,
   "metadata": {
    "collapsed": false
   },
   "outputs": [],
   "source": [
    "def get_content_from_articles(articles, lookingfor):\n",
    "    for article in articles:\n",
    "        #print (article)\n",
    "        meta = article.find('div', 'title').find('a')\n",
    "        #print (meta)\n",
    "        title = meta.getText().strip()\n",
    "        if(lookingfor in title):\n",
    "            print (title)"
   ]
  },
  {
   "cell_type": "code",
   "execution_count": 66,
   "metadata": {
    "collapsed": false,
    "scrolled": true
   },
   "outputs": [
    {
     "name": "stdout",
     "output_type": "stream",
     "text": [
      "/bbs/movie/index5016.html\n",
      "[公告]《各式疑難雜症FAQ》\n",
      "[公告] 板規！必看！｜好文推薦‧惡文檢舉\n",
      "[公告] 版主徵選公告\n"
     ]
    },
    {
     "ename": "MissingSchema",
     "evalue": "Invalid URL '/bbs/movie/index5016.html': No schema supplied. Perhaps you meant http:///bbs/movie/index5016.html?",
     "output_type": "error",
     "traceback": [
      "\u001b[0;31m---------------------------------------------------------------------------\u001b[0m",
      "\u001b[0;31mMissingSchema\u001b[0m                             Traceback (most recent call last)",
      "\u001b[0;32m<ipython-input-66-ab928646d2a1>\u001b[0m in \u001b[0;36m<module>\u001b[0;34m()\u001b[0m\n\u001b[1;32m      3\u001b[0m     \u001b[0mctr\u001b[0m \u001b[0;34m=\u001b[0m \u001b[0;36m0\u001b[0m\u001b[0;34m\u001b[0m\u001b[0m\n\u001b[1;32m      4\u001b[0m     \u001b[0;32mwhile\u001b[0m \u001b[0;34m(\u001b[0m\u001b[0mctr\u001b[0m \u001b[0;34m<\u001b[0m \u001b[0;36m5\u001b[0m\u001b[0;34m)\u001b[0m\u001b[0;34m:\u001b[0m\u001b[0;34m\u001b[0m\u001b[0m\n\u001b[0;32m----> 5\u001b[0;31m         \u001b[0marticles\u001b[0m\u001b[0;34m,\u001b[0m \u001b[0mlinks\u001b[0m \u001b[0;34m=\u001b[0m \u001b[0mprocess_url\u001b[0m\u001b[0;34m(\u001b[0m\u001b[0murl\u001b[0m\u001b[0;34m)\u001b[0m\u001b[0;34m\u001b[0m\u001b[0m\n\u001b[0m\u001b[1;32m      6\u001b[0m         \u001b[0murl\u001b[0m \u001b[0;34m=\u001b[0m \u001b[0mget_prv_page\u001b[0m\u001b[0;34m(\u001b[0m\u001b[0mlinks\u001b[0m\u001b[0;34m)\u001b[0m\u001b[0;34m\u001b[0m\u001b[0m\n\u001b[1;32m      7\u001b[0m         \u001b[0mget_content_from_articles\u001b[0m\u001b[0;34m(\u001b[0m\u001b[0marticles\u001b[0m\u001b[0;34m,\u001b[0m \u001b[0;34m'公告'\u001b[0m\u001b[0;34m)\u001b[0m\u001b[0;34m\u001b[0m\u001b[0m\n",
      "\u001b[0;32m<ipython-input-26-0330625cebe2>\u001b[0m in \u001b[0;36mprocess_url\u001b[0;34m(url)\u001b[0m\n\u001b[1;32m      2\u001b[0m \u001b[0;32mfrom\u001b[0m \u001b[0mbs4\u001b[0m \u001b[0;32mimport\u001b[0m \u001b[0mBeautifulSoup\u001b[0m\u001b[0;34m\u001b[0m\u001b[0m\n\u001b[1;32m      3\u001b[0m \u001b[0;32mdef\u001b[0m \u001b[0mprocess_url\u001b[0m \u001b[0;34m(\u001b[0m\u001b[0murl\u001b[0m\u001b[0;34m)\u001b[0m\u001b[0;34m:\u001b[0m\u001b[0;34m\u001b[0m\u001b[0m\n\u001b[0;32m----> 4\u001b[0;31m     \u001b[0mresponse\u001b[0m    \u001b[0;34m=\u001b[0m \u001b[0mrequests\u001b[0m\u001b[0;34m.\u001b[0m\u001b[0mget\u001b[0m\u001b[0;34m(\u001b[0m\u001b[0murl\u001b[0m\u001b[0;34m)\u001b[0m\u001b[0;34m\u001b[0m\u001b[0m\n\u001b[0m\u001b[1;32m      5\u001b[0m     \u001b[0msoup\u001b[0m        \u001b[0;34m=\u001b[0m \u001b[0mBeautifulSoup\u001b[0m\u001b[0;34m(\u001b[0m\u001b[0mresponse\u001b[0m\u001b[0;34m.\u001b[0m\u001b[0mtext\u001b[0m\u001b[0;34m,\u001b[0m \u001b[0;34m'lxml'\u001b[0m\u001b[0;34m)\u001b[0m\u001b[0;34m\u001b[0m\u001b[0m\n\u001b[1;32m      6\u001b[0m     \u001b[0marticles\u001b[0m    \u001b[0;34m=\u001b[0m \u001b[0msoup\u001b[0m\u001b[0;34m.\u001b[0m\u001b[0mfind_all\u001b[0m\u001b[0;34m(\u001b[0m\u001b[0;34m'div'\u001b[0m\u001b[0;34m,\u001b[0m \u001b[0;34m'r-ent'\u001b[0m\u001b[0;34m)\u001b[0m\u001b[0;34m\u001b[0m\u001b[0m\n",
      "\u001b[0;32m/usr/lib/python3/dist-packages/requests/api.py\u001b[0m in \u001b[0;36mget\u001b[0;34m(url, params, **kwargs)\u001b[0m\n\u001b[1;32m     65\u001b[0m \u001b[0;34m\u001b[0m\u001b[0m\n\u001b[1;32m     66\u001b[0m     \u001b[0mkwargs\u001b[0m\u001b[0;34m.\u001b[0m\u001b[0msetdefault\u001b[0m\u001b[0;34m(\u001b[0m\u001b[0;34m'allow_redirects'\u001b[0m\u001b[0;34m,\u001b[0m \u001b[0;32mTrue\u001b[0m\u001b[0;34m)\u001b[0m\u001b[0;34m\u001b[0m\u001b[0m\n\u001b[0;32m---> 67\u001b[0;31m     \u001b[0;32mreturn\u001b[0m \u001b[0mrequest\u001b[0m\u001b[0;34m(\u001b[0m\u001b[0;34m'get'\u001b[0m\u001b[0;34m,\u001b[0m \u001b[0murl\u001b[0m\u001b[0;34m,\u001b[0m \u001b[0mparams\u001b[0m\u001b[0;34m=\u001b[0m\u001b[0mparams\u001b[0m\u001b[0;34m,\u001b[0m \u001b[0;34m**\u001b[0m\u001b[0mkwargs\u001b[0m\u001b[0;34m)\u001b[0m\u001b[0;34m\u001b[0m\u001b[0m\n\u001b[0m\u001b[1;32m     68\u001b[0m \u001b[0;34m\u001b[0m\u001b[0m\n\u001b[1;32m     69\u001b[0m \u001b[0;34m\u001b[0m\u001b[0m\n",
      "\u001b[0;32m/usr/lib/python3/dist-packages/requests/api.py\u001b[0m in \u001b[0;36mrequest\u001b[0;34m(method, url, **kwargs)\u001b[0m\n\u001b[1;32m     51\u001b[0m     \u001b[0;31m# cases, and look like a memory leak in others.\u001b[0m\u001b[0;34m\u001b[0m\u001b[0;34m\u001b[0m\u001b[0m\n\u001b[1;32m     52\u001b[0m     \u001b[0;32mwith\u001b[0m \u001b[0msessions\u001b[0m\u001b[0;34m.\u001b[0m\u001b[0mSession\u001b[0m\u001b[0;34m(\u001b[0m\u001b[0;34m)\u001b[0m \u001b[0;32mas\u001b[0m \u001b[0msession\u001b[0m\u001b[0;34m:\u001b[0m\u001b[0;34m\u001b[0m\u001b[0m\n\u001b[0;32m---> 53\u001b[0;31m         \u001b[0;32mreturn\u001b[0m \u001b[0msession\u001b[0m\u001b[0;34m.\u001b[0m\u001b[0mrequest\u001b[0m\u001b[0;34m(\u001b[0m\u001b[0mmethod\u001b[0m\u001b[0;34m=\u001b[0m\u001b[0mmethod\u001b[0m\u001b[0;34m,\u001b[0m \u001b[0murl\u001b[0m\u001b[0;34m=\u001b[0m\u001b[0murl\u001b[0m\u001b[0;34m,\u001b[0m \u001b[0;34m**\u001b[0m\u001b[0mkwargs\u001b[0m\u001b[0;34m)\u001b[0m\u001b[0;34m\u001b[0m\u001b[0m\n\u001b[0m\u001b[1;32m     54\u001b[0m \u001b[0;34m\u001b[0m\u001b[0m\n\u001b[1;32m     55\u001b[0m \u001b[0;34m\u001b[0m\u001b[0m\n",
      "\u001b[0;32m/usr/lib/python3/dist-packages/requests/sessions.py\u001b[0m in \u001b[0;36mrequest\u001b[0;34m(self, method, url, params, data, headers, cookies, files, auth, timeout, allow_redirects, proxies, hooks, stream, verify, cert, json)\u001b[0m\n\u001b[1;32m    452\u001b[0m             \u001b[0mhooks\u001b[0m \u001b[0;34m=\u001b[0m \u001b[0mhooks\u001b[0m\u001b[0;34m,\u001b[0m\u001b[0;34m\u001b[0m\u001b[0m\n\u001b[1;32m    453\u001b[0m         )\n\u001b[0;32m--> 454\u001b[0;31m         \u001b[0mprep\u001b[0m \u001b[0;34m=\u001b[0m \u001b[0mself\u001b[0m\u001b[0;34m.\u001b[0m\u001b[0mprepare_request\u001b[0m\u001b[0;34m(\u001b[0m\u001b[0mreq\u001b[0m\u001b[0;34m)\u001b[0m\u001b[0;34m\u001b[0m\u001b[0m\n\u001b[0m\u001b[1;32m    455\u001b[0m \u001b[0;34m\u001b[0m\u001b[0m\n\u001b[1;32m    456\u001b[0m         \u001b[0mproxies\u001b[0m \u001b[0;34m=\u001b[0m \u001b[0mproxies\u001b[0m \u001b[0;32mor\u001b[0m \u001b[0;34m{\u001b[0m\u001b[0;34m}\u001b[0m\u001b[0;34m\u001b[0m\u001b[0m\n",
      "\u001b[0;32m/usr/lib/python3/dist-packages/requests/sessions.py\u001b[0m in \u001b[0;36mprepare_request\u001b[0;34m(self, request)\u001b[0m\n\u001b[1;32m    386\u001b[0m             \u001b[0mauth\u001b[0m\u001b[0;34m=\u001b[0m\u001b[0mmerge_setting\u001b[0m\u001b[0;34m(\u001b[0m\u001b[0mauth\u001b[0m\u001b[0;34m,\u001b[0m \u001b[0mself\u001b[0m\u001b[0;34m.\u001b[0m\u001b[0mauth\u001b[0m\u001b[0;34m)\u001b[0m\u001b[0;34m,\u001b[0m\u001b[0;34m\u001b[0m\u001b[0m\n\u001b[1;32m    387\u001b[0m             \u001b[0mcookies\u001b[0m\u001b[0;34m=\u001b[0m\u001b[0mmerged_cookies\u001b[0m\u001b[0;34m,\u001b[0m\u001b[0;34m\u001b[0m\u001b[0m\n\u001b[0;32m--> 388\u001b[0;31m             \u001b[0mhooks\u001b[0m\u001b[0;34m=\u001b[0m\u001b[0mmerge_hooks\u001b[0m\u001b[0;34m(\u001b[0m\u001b[0mrequest\u001b[0m\u001b[0;34m.\u001b[0m\u001b[0mhooks\u001b[0m\u001b[0;34m,\u001b[0m \u001b[0mself\u001b[0m\u001b[0;34m.\u001b[0m\u001b[0mhooks\u001b[0m\u001b[0;34m)\u001b[0m\u001b[0;34m,\u001b[0m\u001b[0;34m\u001b[0m\u001b[0m\n\u001b[0m\u001b[1;32m    389\u001b[0m         )\n\u001b[1;32m    390\u001b[0m         \u001b[0;32mreturn\u001b[0m \u001b[0mp\u001b[0m\u001b[0;34m\u001b[0m\u001b[0m\n",
      "\u001b[0;32m/usr/lib/python3/dist-packages/requests/models.py\u001b[0m in \u001b[0;36mprepare\u001b[0;34m(self, method, url, headers, files, data, params, auth, cookies, hooks, json)\u001b[0m\n\u001b[1;32m    291\u001b[0m \u001b[0;34m\u001b[0m\u001b[0m\n\u001b[1;32m    292\u001b[0m         \u001b[0mself\u001b[0m\u001b[0;34m.\u001b[0m\u001b[0mprepare_method\u001b[0m\u001b[0;34m(\u001b[0m\u001b[0mmethod\u001b[0m\u001b[0;34m)\u001b[0m\u001b[0;34m\u001b[0m\u001b[0m\n\u001b[0;32m--> 293\u001b[0;31m         \u001b[0mself\u001b[0m\u001b[0;34m.\u001b[0m\u001b[0mprepare_url\u001b[0m\u001b[0;34m(\u001b[0m\u001b[0murl\u001b[0m\u001b[0;34m,\u001b[0m \u001b[0mparams\u001b[0m\u001b[0;34m)\u001b[0m\u001b[0;34m\u001b[0m\u001b[0m\n\u001b[0m\u001b[1;32m    294\u001b[0m         \u001b[0mself\u001b[0m\u001b[0;34m.\u001b[0m\u001b[0mprepare_headers\u001b[0m\u001b[0;34m(\u001b[0m\u001b[0mheaders\u001b[0m\u001b[0;34m)\u001b[0m\u001b[0;34m\u001b[0m\u001b[0m\n\u001b[1;32m    295\u001b[0m         \u001b[0mself\u001b[0m\u001b[0;34m.\u001b[0m\u001b[0mprepare_cookies\u001b[0m\u001b[0;34m(\u001b[0m\u001b[0mcookies\u001b[0m\u001b[0;34m)\u001b[0m\u001b[0;34m\u001b[0m\u001b[0m\n",
      "\u001b[0;32m/usr/lib/python3/dist-packages/requests/models.py\u001b[0m in \u001b[0;36mprepare_url\u001b[0;34m(self, url, params)\u001b[0m\n\u001b[1;32m    351\u001b[0m             \u001b[0merror\u001b[0m \u001b[0;34m=\u001b[0m \u001b[0merror\u001b[0m\u001b[0;34m.\u001b[0m\u001b[0mformat\u001b[0m\u001b[0;34m(\u001b[0m\u001b[0mto_native_string\u001b[0m\u001b[0;34m(\u001b[0m\u001b[0murl\u001b[0m\u001b[0;34m,\u001b[0m \u001b[0;34m'utf8'\u001b[0m\u001b[0;34m)\u001b[0m\u001b[0;34m)\u001b[0m\u001b[0;34m\u001b[0m\u001b[0m\n\u001b[1;32m    352\u001b[0m \u001b[0;34m\u001b[0m\u001b[0m\n\u001b[0;32m--> 353\u001b[0;31m             \u001b[0;32mraise\u001b[0m \u001b[0mMissingSchema\u001b[0m\u001b[0;34m(\u001b[0m\u001b[0merror\u001b[0m\u001b[0;34m)\u001b[0m\u001b[0;34m\u001b[0m\u001b[0m\n\u001b[0m\u001b[1;32m    354\u001b[0m \u001b[0;34m\u001b[0m\u001b[0m\n\u001b[1;32m    355\u001b[0m         \u001b[0;32mif\u001b[0m \u001b[0;32mnot\u001b[0m \u001b[0mhost\u001b[0m\u001b[0;34m:\u001b[0m\u001b[0;34m\u001b[0m\u001b[0m\n",
      "\u001b[0;31mMissingSchema\u001b[0m: Invalid URL '/bbs/movie/index5016.html': No schema supplied. Perhaps you meant http:///bbs/movie/index5016.html?"
     ]
    }
   ],
   "source": [
    "if __name__ == '__main__':\n",
    "    url = 'https://www.ptt.cc/bbs/movie/index.html'\n",
    "    ctr = 0\n",
    "    while (ctr < 5):\n",
    "        articles, links = process_url(url)\n",
    "        url = get_prv_page(links)\n",
    "        get_content_from_articles(articles, '公告')\n",
    "        #url = \"https://www.ptt.cc\"+url\n",
    "        ctr += 1\n"
   ]
  },
  {
   "cell_type": "code",
   "execution_count": 61,
   "metadata": {
    "collapsed": false
   },
   "outputs": [],
   "source": [
    "url = 'https://www.ptt.cc/bbs/movie/index.html'"
   ]
  },
  {
   "cell_type": "code",
   "execution_count": 65,
   "metadata": {
    "collapsed": false,
    "scrolled": true
   },
   "outputs": [
    {
     "name": "stdout",
     "output_type": "stream",
     "text": [
      "[公告]《各式疑難雜症FAQ》\n",
      "[公告] 板規！必看！｜好文推薦‧惡文檢舉\n",
      "[公告] 版主徵選公告\n"
     ]
    }
   ],
   "source": [
    "articles, links = process_url(url)\n",
    "get_content_from_articles(articles, '公告')"
   ]
  },
  {
   "cell_type": "code",
   "execution_count": 59,
   "metadata": {
    "collapsed": false
   },
   "outputs": [
    {
     "name": "stdout",
     "output_type": "stream",
     "text": [
      "[新聞] 史柯西斯策劃辛納屈傳記電影 將停止作業\n",
      "[公告]《各式疑難雜症FAQ》\n",
      "[公告] 板規！必看！｜好文推薦‧惡文檢舉\n",
      "[公告] 版主徵選公告\n",
      "[贈票] 電影神搜乎你贈票之《海洋奇緣》特映券\n"
     ]
    }
   ],
   "source": [
    "for article in articles:\n",
    "    print (article.find('div', 'title').find('a').getText().strip())"
   ]
  },
  {
   "cell_type": "code",
   "execution_count": 16,
   "metadata": {
    "collapsed": false
   },
   "outputs": [
    {
     "ename": "IndexError",
     "evalue": "list index out of range",
     "output_type": "error",
     "traceback": [
      "\u001b[0;31m---------------------------------------------------------------------------\u001b[0m",
      "\u001b[0;31mIndexError\u001b[0m                                Traceback (most recent call last)",
      "\u001b[0;32m<ipython-input-16-051bea6a7fcc>\u001b[0m in \u001b[0;36m<module>\u001b[0;34m()\u001b[0m\n\u001b[1;32m      1\u001b[0m \u001b[0marticles\u001b[0m\u001b[0;34m,\u001b[0m \u001b[0mlinks\u001b[0m \u001b[0;34m=\u001b[0m \u001b[0mprocess_url\u001b[0m\u001b[0;34m(\u001b[0m\u001b[0murl\u001b[0m\u001b[0;34m)\u001b[0m\u001b[0;34m\u001b[0m\u001b[0m\n\u001b[0;32m----> 2\u001b[0;31m \u001b[0murl\u001b[0m \u001b[0;34m=\u001b[0m \u001b[0mget_prv_page\u001b[0m\u001b[0;34m(\u001b[0m\u001b[0mlinks\u001b[0m\u001b[0;34m)\u001b[0m\u001b[0;34m\u001b[0m\u001b[0m\n\u001b[0m\u001b[1;32m      3\u001b[0m \u001b[0murl\u001b[0m \u001b[0;34m=\u001b[0m \u001b[0;34m\"https://www.ptt.cc\"\u001b[0m\u001b[0;34m+\u001b[0m\u001b[0murl\u001b[0m\u001b[0;34m\u001b[0m\u001b[0m\n",
      "\u001b[0;32m<ipython-input-1-0330625cebe2>\u001b[0m in \u001b[0;36mget_prv_page\u001b[0;34m(links)\u001b[0m\n\u001b[1;32m      8\u001b[0m     \u001b[0;32mreturn\u001b[0m \u001b[0marticles\u001b[0m\u001b[0;34m,\u001b[0m \u001b[0mlinks\u001b[0m\u001b[0;34m\u001b[0m\u001b[0m\n\u001b[1;32m      9\u001b[0m \u001b[0;32mdef\u001b[0m \u001b[0mget_prv_page\u001b[0m\u001b[0;34m(\u001b[0m\u001b[0mlinks\u001b[0m\u001b[0;34m)\u001b[0m\u001b[0;34m:\u001b[0m\u001b[0;34m\u001b[0m\u001b[0m\n\u001b[0;32m---> 10\u001b[0;31m     \u001b[0mhref\u001b[0m \u001b[0;34m=\u001b[0m \u001b[0mlinks\u001b[0m\u001b[0;34m[\u001b[0m\u001b[0;36m0\u001b[0m\u001b[0;34m]\u001b[0m\u001b[0;34m.\u001b[0m\u001b[0mfind_all\u001b[0m\u001b[0;34m(\u001b[0m\u001b[0;34m'a'\u001b[0m\u001b[0;34m)\u001b[0m\u001b[0;34m[\u001b[0m\u001b[0;36m1\u001b[0m\u001b[0;34m]\u001b[0m\u001b[0;34m.\u001b[0m\u001b[0mget\u001b[0m\u001b[0;34m(\u001b[0m\u001b[0;34m'href'\u001b[0m\u001b[0;34m)\u001b[0m\u001b[0;34m\u001b[0m\u001b[0m\n\u001b[0m\u001b[1;32m     11\u001b[0m     \u001b[0mprint\u001b[0m \u001b[0;34m(\u001b[0m\u001b[0mhref\u001b[0m\u001b[0;34m)\u001b[0m\u001b[0;34m\u001b[0m\u001b[0m\n\u001b[1;32m     12\u001b[0m     \u001b[0;32mreturn\u001b[0m \u001b[0;34m(\u001b[0m\u001b[0mhref\u001b[0m\u001b[0;34m)\u001b[0m\u001b[0;34m\u001b[0m\u001b[0m\n",
      "\u001b[0;31mIndexError\u001b[0m: list index out of range"
     ]
    }
   ],
   "source": [
    "articles, links = process_url(url)\n",
    "url = get_prv_page(links)\n",
    "url = \"https://www.ptt.cc\"+url"
   ]
  },
  {
   "cell_type": "code",
   "execution_count": 17,
   "metadata": {
    "collapsed": false
   },
   "outputs": [
    {
     "data": {
      "text/plain": [
       "[]"
      ]
     },
     "execution_count": 17,
     "metadata": {},
     "output_type": "execute_result"
    }
   ],
   "source": [
    "links"
   ]
  },
  {
   "cell_type": "code",
   "execution_count": 18,
   "metadata": {
    "collapsed": false
   },
   "outputs": [
    {
     "data": {
      "text/plain": [
       "[]"
      ]
     },
     "execution_count": 18,
     "metadata": {},
     "output_type": "execute_result"
    }
   ],
   "source": [
    "articles"
   ]
  },
  {
   "cell_type": "code",
   "execution_count": 24,
   "metadata": {
    "collapsed": false
   },
   "outputs": [],
   "source": [
    "def process_url (url):\n",
    "    response    = requests.get(url)\n",
    "    soup        = BeautifulSoup(response.text, 'lxml')\n",
    "    print(soup)\n",
    "    articles    = soup.find_all('div', 'r-ent')\n",
    "    print(articles)\n",
    "    links       = soup.find_all('div', 'btn-group btn-group-paging')\n",
    "    print(links)\n",
    "    return articles, links"
   ]
  },
  {
   "cell_type": "code",
   "execution_count": 25,
   "metadata": {
    "collapsed": false
   },
   "outputs": [
    {
     "name": "stdout",
     "output_type": "stream",
     "text": [
      "<!DOCTYPE html>\n",
      "<html>\n",
      "<head>\n",
      "<meta charset=\"utf-8\"/>\n",
      "<meta content=\"width=device-width, initial-scale=1\" name=\"viewport\"/>\n",
      "<title>批踢踢實業坊</title>\n",
      "<link href=\"//images.ptt.cc/v2.20/bbs-common.css\" rel=\"stylesheet\" type=\"text/css\"/>\n",
      "<link href=\"//images.ptt.cc/v2.20/bbs-base.css\" media=\"screen\" rel=\"stylesheet\" type=\"text/css\"/>\n",
      "<link href=\"//images.ptt.cc/v2.20/bbs-custom.css\" rel=\"stylesheet\" type=\"text/css\"/>\n",
      "<link href=\"//images.ptt.cc/v2.20/pushstream.css\" media=\"screen\" rel=\"stylesheet\" type=\"text/css\"/>\n",
      "<link href=\"//images.ptt.cc/v2.20/bbs-print.css\" media=\"print\" rel=\"stylesheet\" type=\"text/css\"/>\n",
      "<script src=\"//ajax.googleapis.com/ajax/libs/jquery/2.1.1/jquery.min.js\"></script>\n",
      "<script src=\"//images.ptt.cc/v2.20/bbs.js\"></script>\n",
      "<script type=\"text/javascript\">\n",
      "\n",
      "  var _gaq = _gaq || [];\n",
      "  _gaq.push(['_setAccount', 'UA-32365737-1']);\n",
      "  _gaq.push(['_setDomainName', 'ptt.cc']);\n",
      "  _gaq.push(['_trackPageview']);\n",
      "\n",
      "  (function() {\n",
      "    var ga = document.createElement('script'); ga.type = 'text/javascript'; ga.async = true;\n",
      "    ga.src = ('https:' == document.location.protocol ? 'https://ssl' : 'http://www') + '.google-analytics.com/ga.js';\n",
      "    var s = document.getElementsByTagName('script')[0]; s.parentNode.insertBefore(ga, s);\n",
      "  })();\n",
      "\n",
      "</script>\n",
      "</head>\n",
      "<body>\n",
      "<div class=\"bbs-screen bbs-content\">\n",
      "<img class=\"over18-notice\" src=\"//images.ptt.cc/v2.20/ticrf_r_red_n.gif\"/>\n",
      "<div class=\"over18-notice\">\n",
      "<p>本網站已依網站內容分級規定處理</p>\n",
      "<p>警告︰您即將進入之看板內容需滿十八歲方可瀏覽。</p>\n",
      "<p>根據「電腦網路內容分級處理辦法」第六條第三款規定，本網站已於各限制級網頁依照台灣網站分級推廣基金會之規定標示。\n",
      "        若您尚未年滿十八歲，請點選離開。若您已滿十八歲，亦不可將本區之內容派發、傳閱、出售、出租、交給或借予年齡未滿18歲的人士瀏覽，或將本網站內容向該人士出示、播放或放映。</p>\n",
      "</div>\n",
      "</div>\n",
      "<div class=\"bbs-screen bbs-content center clear\">\n",
      "<form action=\"/ask/over18\" method=\"post\">\n",
      "<input name=\"from\" type=\"hidden\" value=\"/bbs/Gossiping/index.html\"/>\n",
      "<div class=\"over18-button-container\">\n",
      "<button class=\"btn-big\" name=\"yes\" type=\"submit\" value=\"yes\">我同意，我已年滿十八歲<br/><small>進入</small></button>\n",
      "</div>\n",
      "<div class=\"over18-button-container\">\n",
      "<button class=\"btn-big\" name=\"no\" type=\"submit\" value=\"no\">未滿十八歲或不同意本條款<br/><small>離開</small></button>\n",
      "</div>\n",
      "</form>\n",
      "</div>\n",
      "</body>\n",
      "</html>\n",
      "\n",
      "[]\n",
      "[]\n"
     ]
    }
   ],
   "source": [
    "articles, links = process_url(url)"
   ]
  },
  {
   "cell_type": "code",
   "execution_count": 21,
   "metadata": {
    "collapsed": false
   },
   "outputs": [
    {
     "data": {
      "text/plain": [
       "[]"
      ]
     },
     "execution_count": 21,
     "metadata": {},
     "output_type": "execute_result"
    }
   ],
   "source": [
    "links"
   ]
  },
  {
   "cell_type": "code",
   "execution_count": 22,
   "metadata": {
    "collapsed": false
   },
   "outputs": [
    {
     "data": {
      "text/plain": [
       "[]"
      ]
     },
     "execution_count": 22,
     "metadata": {},
     "output_type": "execute_result"
    }
   ],
   "source": [
    "articles"
   ]
  },
  {
   "cell_type": "code",
   "execution_count": null,
   "metadata": {
    "collapsed": true
   },
   "outputs": [],
   "source": []
  }
 ],
 "metadata": {
  "kernelspec": {
   "display_name": "Python 3",
   "language": "python",
   "name": "python3"
  },
  "language_info": {
   "codemirror_mode": {
    "name": "ipython",
    "version": 3
   },
   "file_extension": ".py",
   "mimetype": "text/x-python",
   "name": "python",
   "nbconvert_exporter": "python",
   "pygments_lexer": "ipython3",
   "version": "3.5.2"
  }
 },
 "nbformat": 4,
 "nbformat_minor": 2
}
